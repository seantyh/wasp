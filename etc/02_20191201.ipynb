{
 "cells": [
  {
   "cell_type": "code",
   "execution_count": 1,
   "metadata": {},
   "outputs": [],
   "source": [
    "%load_ext autoreload\n",
    "%autoreload 2\n"
   ]
  },
  {
   "cell_type": "code",
   "execution_count": 2,
   "metadata": {},
   "outputs": [],
   "source": [
    "import wasp"
   ]
  },
  {
   "cell_type": "code",
   "execution_count": 6,
   "metadata": {},
   "outputs": [],
   "source": [
    "import json\n"
   ]
  },
  {
   "cell_type": "code",
   "execution_count": 7,
   "metadata": {},
   "outputs": [],
   "source": [
    "ratings_path = wasp.get_cache_path(\"\", \"all_questions_with_ratings.json\")\n",
    "with ratings_path.open(\"r\", encoding=\"UTF-8\") as fin:\n",
    "    ratings = json.load(fin)"
   ]
  },
  {
   "cell_type": "code",
   "execution_count": 9,
   "metadata": {},
   "outputs": [],
   "source": [
    "import pandas as pd"
   ]
  },
  {
   "cell_type": "code",
   "execution_count": 16,
   "metadata": {},
   "outputs": [],
   "source": [
    "FIELDS = \"qid,MaxIsCorrect,RatingMax,Rating2nd,XbarSD\".split(\",\")\n",
    "ratings = pd.DataFrame.from_records(ratings, index=\"qid\")"
   ]
  },
  {
   "cell_type": "code",
   "execution_count": 23,
   "metadata": {},
   "outputs": [
    {
     "data": {
      "text/html": [
       "<div>\n",
       "<style scoped>\n",
       "    .dataframe tbody tr th:only-of-type {\n",
       "        vertical-align: middle;\n",
       "    }\n",
       "\n",
       "    .dataframe tbody tr th {\n",
       "        vertical-align: top;\n",
       "    }\n",
       "\n",
       "    .dataframe thead th {\n",
       "        text-align: right;\n",
       "    }\n",
       "</style>\n",
       "<table border=\"1\" class=\"dataframe\">\n",
       "  <thead>\n",
       "    <tr style=\"text-align: right;\">\n",
       "      <th></th>\n",
       "      <th>MaxIsCorrect</th>\n",
       "      <th>RatingMax</th>\n",
       "      <th>Rating2nd</th>\n",
       "      <th>max_2nd</th>\n",
       "      <th>XbarSD</th>\n",
       "      <th>question</th>\n",
       "      <th>options</th>\n",
       "      <th>options_rating</th>\n",
       "      <th>options_ratingSD</th>\n",
       "    </tr>\n",
       "    <tr>\n",
       "      <th>qid</th>\n",
       "      <th></th>\n",
       "      <th></th>\n",
       "      <th></th>\n",
       "      <th></th>\n",
       "      <th></th>\n",
       "      <th></th>\n",
       "      <th></th>\n",
       "      <th></th>\n",
       "      <th></th>\n",
       "    </tr>\n",
       "  </thead>\n",
       "  <tbody>\n",
       "    <tr>\n",
       "      <td>219</td>\n",
       "      <td>True</td>\n",
       "      <td>5.0</td>\n",
       "      <td>1.2</td>\n",
       "      <td>4.1667</td>\n",
       "      <td>1.9689</td>\n",
       "      <td>甲：我最近想要&lt;灌&gt;Vista試試看，你有空幫我嗎？  乙：？</td>\n",
       "      <td>[你還吃得下喔？我真佩服你耶。, 你竟然是這種卑鄙的人，我看錯人了。, 但你的硬碟還有空間嗎...</td>\n",
       "      <td>[1, 1.2, 5, 1]</td>\n",
       "      <td>[0, 0.4472, 0, 0]</td>\n",
       "    </tr>\n",
       "    <tr>\n",
       "      <td>108</td>\n",
       "      <td>True</td>\n",
       "      <td>5.0</td>\n",
       "      <td>2.4</td>\n",
       "      <td>2.0833</td>\n",
       "      <td>1.6442</td>\n",
       "      <td>有時見好就&lt;收&gt;是很重要的，不要被貪婪蒙蔽了雙眼。</td>\n",
       "      <td>[你怎麼講話自相矛盾，不是說好的就接收嗎？, 你怎麼講話自相矛盾，都擺好了還整理幹嘛？, 你...</td>\n",
       "      <td>[2, 1.2, 2.4, 5]</td>\n",
       "      <td>[1.2247, 0.4472, 1.5166, 0]</td>\n",
       "    </tr>\n",
       "    <tr>\n",
       "      <td>111</td>\n",
       "      <td>True</td>\n",
       "      <td>5.0</td>\n",
       "      <td>2.6</td>\n",
       "      <td>1.9231</td>\n",
       "      <td>1.6523</td>\n",
       "      <td>他說話的內容雖然&lt;粗&gt;了點，但他給的建議其實很有道理。</td>\n",
       "      <td>[製作得這麼糟糕，建議再好又有什麼用！, 我覺得音調還是要高亢一點比較好。, 我知道，是有一...</td>\n",
       "      <td>[1.6, 1.4, 5, 2.6]</td>\n",
       "      <td>[0.5477, 0.5477, 0, 1.3416]</td>\n",
       "    </tr>\n",
       "    <tr>\n",
       "      <td>112</td>\n",
       "      <td>True</td>\n",
       "      <td>5.0</td>\n",
       "      <td>2.0</td>\n",
       "      <td>2.5000</td>\n",
       "      <td>1.7814</td>\n",
       "      <td>爸爸的手臂&lt;粗&gt;得像大象的腿一樣。</td>\n",
       "      <td>[這就是沒有經過好好設計就胡亂製作的下場。, 怎麼會？大象的聲音不低啊！, 你怎麼可以隨便說...</td>\n",
       "      <td>[2, 1, 1.6, 5]</td>\n",
       "      <td>[1.4142, 0, 0.8944, 0]</td>\n",
       "    </tr>\n",
       "    <tr>\n",
       "      <td>114</td>\n",
       "      <td>True</td>\n",
       "      <td>5.0</td>\n",
       "      <td>2.2</td>\n",
       "      <td>2.2727</td>\n",
       "      <td>1.8037</td>\n",
       "      <td>電梯很&lt;老&gt;了，每次都發出吱吱嘎嘎的聲音。</td>\n",
       "      <td>[年紀這麼大還這麼有活力，很好啊！, 那還是換掉吧！太危險了。, 現在已經不是電梯了？, 煮...</td>\n",
       "      <td>[2.2, 5, 1.4, 1]</td>\n",
       "      <td>[1.0954, 0, 0.5477, 0]</td>\n",
       "    </tr>\n",
       "  </tbody>\n",
       "</table>\n",
       "</div>"
      ],
      "text/plain": [
       "     MaxIsCorrect  RatingMax  Rating2nd  max_2nd  XbarSD  \\\n",
       "qid                                                        \n",
       "219          True        5.0        1.2   4.1667  1.9689   \n",
       "108          True        5.0        2.4   2.0833  1.6442   \n",
       "111          True        5.0        2.6   1.9231  1.6523   \n",
       "112          True        5.0        2.0   2.5000  1.7814   \n",
       "114          True        5.0        2.2   2.2727  1.8037   \n",
       "\n",
       "                            question  \\\n",
       "qid                                    \n",
       "219  甲：我最近想要<灌>Vista試試看，你有空幫我嗎？  乙：？   \n",
       "108        有時見好就<收>是很重要的，不要被貪婪蒙蔽了雙眼。   \n",
       "111      他說話的內容雖然<粗>了點，但他給的建議其實很有道理。   \n",
       "112                爸爸的手臂<粗>得像大象的腿一樣。   \n",
       "114            電梯很<老>了，每次都發出吱吱嘎嘎的聲音。   \n",
       "\n",
       "                                               options      options_rating  \\\n",
       "qid                                                                          \n",
       "219  [你還吃得下喔？我真佩服你耶。, 你竟然是這種卑鄙的人，我看錯人了。, 但你的硬碟還有空間嗎...      [1, 1.2, 5, 1]   \n",
       "108  [你怎麼講話自相矛盾，不是說好的就接收嗎？, 你怎麼講話自相矛盾，都擺好了還整理幹嘛？, 你...    [2, 1.2, 2.4, 5]   \n",
       "111  [製作得這麼糟糕，建議再好又有什麼用！, 我覺得音調還是要高亢一點比較好。, 我知道，是有一...  [1.6, 1.4, 5, 2.6]   \n",
       "112  [這就是沒有經過好好設計就胡亂製作的下場。, 怎麼會？大象的聲音不低啊！, 你怎麼可以隨便說...      [2, 1, 1.6, 5]   \n",
       "114  [年紀這麼大還這麼有活力，很好啊！, 那還是換掉吧！太危險了。, 現在已經不是電梯了？, 煮...    [2.2, 5, 1.4, 1]   \n",
       "\n",
       "                options_ratingSD  \n",
       "qid                               \n",
       "219            [0, 0.4472, 0, 0]  \n",
       "108  [1.2247, 0.4472, 1.5166, 0]  \n",
       "111  [0.5477, 0.5477, 0, 1.3416]  \n",
       "112       [1.4142, 0, 0.8944, 0]  \n",
       "114       [1.0954, 0, 0.5477, 0]  "
      ]
     },
     "execution_count": 23,
     "metadata": {},
     "output_type": "execute_result"
    }
   ],
   "source": [
    "(ratings.loc[ratings.MaxIsCorrect, :].sort_values(\"RatingMax\", ascending=False)).iloc[:5, :]"
   ]
  },
  {
   "cell_type": "code",
   "execution_count": null,
   "metadata": {},
   "outputs": [],
   "source": []
  }
 ],
 "metadata": {
  "kernelspec": {
   "display_name": "Python 3",
   "language": "python",
   "name": "python3"
  },
  "language_info": {
   "codemirror_mode": {
    "name": "ipython",
    "version": 3
   },
   "file_extension": ".py",
   "mimetype": "text/x-python",
   "name": "python",
   "nbconvert_exporter": "python",
   "pygments_lexer": "ipython3",
   "version": "3.7.4"
  }
 },
 "nbformat": 4,
 "nbformat_minor": 4
}
