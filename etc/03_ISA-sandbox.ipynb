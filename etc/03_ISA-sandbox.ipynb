{
 "cells": [
  {
   "cell_type": "markdown",
   "metadata": {},
   "source": [
    "# ISA-01"
   ]
  },
  {
   "cell_type": "markdown",
   "metadata": {},
   "source": [
    "* This notebook is used to preprocess item-pool so that each item has word segmentation, answer option index and their target sense available.\n",
    "* The item pool is based on all_questions_with_ratings.json and WSD_all_questions.xlsx"
   ]
  },
  {
   "cell_type": "code",
   "execution_count": 1,
   "metadata": {},
   "outputs": [],
   "source": [
    "import wasp\n",
    "import numpy as np\n",
    "import pandas as pd"
   ]
  },
  {
   "cell_type": "code",
   "execution_count": 2,
   "metadata": {},
   "outputs": [],
   "source": [
    "item_pool_dir = wasp.get_data_path(\"item_pool\", \"\")"
   ]
  },
  {
   "cell_type": "code",
   "execution_count": 3,
   "metadata": {},
   "outputs": [
    {
     "name": "stderr",
     "output_type": "stream",
     "text": [
      "Building prefix dict from the default dictionary ...\n",
      "Loading model from cache C:\\Users\\seantyh\\AppData\\Local\\Temp\\jieba.cache\n",
      "Loading model cost 0.660 seconds.\n",
      "Prefix dict has been built succesfully.\n"
     ]
    }
   ],
   "source": [
    "import json\n",
    "import jieba\n",
    "jieba.add_word(\"小華\")"
   ]
  },
  {
   "cell_type": "code",
   "execution_count": 4,
   "metadata": {},
   "outputs": [],
   "source": [
    "raw_all = pd.read_excel(wasp.get_data_path(\"ratings\", \"WSD_all_questions.xlsx\"), index_col=0)\n",
    "raw_all[\"question_stem\"] = raw_all[\"question_stem\"].str.replace(\"\\n\", \" \")\n",
    "raw_all = raw_all.set_index(\"question_stem\")"
   ]
  },
  {
   "cell_type": "code",
   "execution_count": 5,
   "metadata": {},
   "outputs": [
    {
     "name": "stderr",
     "output_type": "stream",
     "text": [
      "c:\\python37\\lib\\site-packages\\ipykernel_launcher.py:1: TqdmExperimentalWarning: Using `tqdm.autonotebook.tqdm` in notebook mode. Use `tqdm.tqdm` instead to force console mode (e.g. in jupyter console)\n",
      "  \"\"\"Entry point for launching an IPython kernel.\n"
     ]
    }
   ],
   "source": [
    "from tqdm.autonotebook import tqdm\n",
    "\n",
    "with open(wasp.get_data_path(\"item_pool\", \"all_questions_with_ratings.json\"), \"r\", encoding=\"UTF-8\") as fin:\n",
    "    items = json.load(fin)\n",
    "    \n",
    "for item_x in items:\n",
    "    df = raw_all.loc[item_x[\"question\"], :].reset_index(drop=True)        \n",
    "    ans_index = np.where(df.is_Answer==1)[0][0]\n",
    "    target_sense = df[\"target_sense\"].tolist()[0]\n",
    "    item_x[\"target_sense\"] = target_sense\n",
    "    item_x[\"ans_index\"] = int(ans_index)"
   ]
  },
  {
   "cell_type": "code",
   "execution_count": 6,
   "metadata": {},
   "outputs": [
    {
     "data": {
      "text/plain": [
       "{'qid': 1,\n",
       " 'MaxIsCorrect': True,\n",
       " 'RatingMax': 4.2,\n",
       " 'Rating2nd': 1.6,\n",
       " 'max_2nd': 2.625,\n",
       " 'XbarSD': 1.4095,\n",
       " 'question': '小華翹班偷偷去<會>情人，被他老闆抓個正著。',\n",
       " 'options': ['小華有見到情人。',\n",
       "  '小華用情人當話題去交朋友。',\n",
       "  '小華當情人的能力極佳，大家都想跟他學習。',\n",
       "  '小華有可能成為你的情人。'],\n",
       " 'options_rating': [4.2, 1.2, 1.4, 1.6],\n",
       " 'options_ratingSD': [0.8367, 0.4472, 0.8944, 1.3416],\n",
       " 'target_sense': '面對面相見。',\n",
       " 'ans_index': 0}"
      ]
     },
     "execution_count": 6,
     "metadata": {},
     "output_type": "execute_result"
    }
   ],
   "source": [
    "items[0]"
   ]
  },
  {
   "cell_type": "code",
   "execution_count": 7,
   "metadata": {},
   "outputs": [
    {
     "data": {
      "application/vnd.jupyter.widget-view+json": {
       "model_id": "1e30506b1c47486fb87a99c275ac5f6a",
       "version_major": 2,
       "version_minor": 0
      },
      "text/plain": [
       "HBox(children=(FloatProgress(value=0.0, max=439.0), HTML(value='')))"
      ]
     },
     "metadata": {},
     "output_type": "display_data"
    },
    {
     "name": "stdout",
     "output_type": "stream",
     "text": [
      "\n"
     ]
    }
   ],
   "source": [
    "def segment(x):\n",
    "    x[\"question\"], x[\"options\"] = wasp.segment_words(x[\"question\"], x[\"options\"])\n",
    "    return x\n",
    "    \n",
    "item_iter = map(segment, items)\n",
    "items = list(tqdm(item_iter, total=len(items)))"
   ]
  },
  {
   "cell_type": "code",
   "execution_count": 8,
   "metadata": {},
   "outputs": [],
   "source": [
    "with open(wasp.get_data_path(\"item_pool\", \"item_pool_supp.json\"), \"w\", encoding=\"UTF-8\") as fout:\n",
    "    json.dump(items, fout, ensure_ascii=False, indent=2)"
   ]
  },
  {
   "cell_type": "code",
   "execution_count": null,
   "metadata": {},
   "outputs": [],
   "source": []
  }
 ],
 "metadata": {
  "kernelspec": {
   "display_name": "Python 3",
   "language": "python",
   "name": "python3"
  },
  "language_info": {
   "codemirror_mode": {
    "name": "ipython",
    "version": 3
   },
   "file_extension": ".py",
   "mimetype": "text/x-python",
   "name": "python",
   "nbconvert_exporter": "python",
   "pygments_lexer": "ipython3",
   "version": "3.7.4"
  }
 },
 "nbformat": 4,
 "nbformat_minor": 4
}
