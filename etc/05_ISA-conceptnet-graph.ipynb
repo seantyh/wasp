{
 "cells": [
  {
   "cell_type": "code",
   "execution_count": 1,
   "metadata": {},
   "outputs": [],
   "source": [
    "%load_ext autoreload\n",
    "%autoreload 2\n",
    "%matplotlib inline"
   ]
  },
  {
   "cell_type": "code",
   "execution_count": 2,
   "metadata": {},
   "outputs": [
    {
     "name": "stderr",
     "output_type": "stream",
     "text": [
      "C:\\Python37\\lib\\site-packages\\ipykernel_launcher.py:3: TqdmExperimentalWarning: Using `tqdm.autonotebook.tqdm` in notebook mode. Use `tqdm.tqdm` instead to force console mode (e.g. in jupyter console)\n",
      "  This is separate from the ipykernel package so we can avoid doing imports until\n"
     ]
    }
   ],
   "source": [
    "import pickle\n",
    "import wasp\n",
    "from tqdm.autonotebook import tqdm\n",
    "from itertools import chain\n",
    "from IPython.display import display, Markdown"
   ]
  },
  {
   "cell_type": "code",
   "execution_count": 3,
   "metadata": {},
   "outputs": [],
   "source": [
    "with open(wasp.get_data_path('sem_graph', 'concept_net.pkl'), \"rb\") as fin:\n",
    "    cn = pickle.load(fin)\n",
    "cn_tokens = list(cn.keys())"
   ]
  },
  {
   "cell_type": "code",
   "execution_count": 4,
   "metadata": {},
   "outputs": [],
   "source": [
    "cn_valid_tokens = list(filter(lambda x: cn[x][0].get(\"error\", {}).get(\"status\", -1) != 404, cn_tokens))"
   ]
  },
  {
   "cell_type": "code",
   "execution_count": 5,
   "metadata": {},
   "outputs": [
    {
     "data": {
      "text/plain": [
       "5936"
      ]
     },
     "execution_count": 5,
     "metadata": {},
     "output_type": "execute_result"
    }
   ],
   "source": [
    "sum([len(cn[x]) for x in cn_valid_tokens])"
   ]
  },
  {
   "cell_type": "code",
   "execution_count": 6,
   "metadata": {},
   "outputs": [
    {
     "data": {
      "text/markdown": [
       "### There are 4055 nodes found in ConceptNet"
      ],
      "text/plain": [
       "<IPython.core.display.Markdown object>"
      ]
     },
     "metadata": {},
     "output_type": "display_data"
    }
   ],
   "source": [
    "display(Markdown(f\"### There are {len(cn_valid_tokens)} nodes found in ConceptNet\"))"
   ]
  },
  {
   "cell_type": "code",
   "execution_count": 7,
   "metadata": {},
   "outputs": [
    {
     "data": {
      "text/plain": [
       "'鞋子'"
      ]
     },
     "execution_count": 7,
     "metadata": {},
     "output_type": "execute_result"
    }
   ],
   "source": [
    "cn_valid_tokens[0]"
   ]
  },
  {
   "cell_type": "code",
   "execution_count": 8,
   "metadata": {},
   "outputs": [],
   "source": [
    "def retrieve_edge(edge_x):    \n",
    "    rel_type = edge_x[\"rel\"][\"@type\"]\n",
    "    end_lang = edge_x[\"end\"].get(\"language\")    \n",
    "    start_lang = edge_x[\"start\"].get(\"language\")\n",
    "    \n",
    "    if rel_type != \"Relation\" or end_lang != \"zh\" \\\n",
    "        or start_lang != \"zh\":\n",
    "        return None\n",
    "    else:\n",
    "        rel_label = edge_x[\"rel\"][\"label\"]\n",
    "        start = edge_x[\"start\"][\"label\"]\n",
    "        end = edge_x[\"end\"][\"label\"]\n",
    "        weight = edge_x.get(\"weight\", 0)\n",
    "        return (start, rel_label, end, weight)"
   ]
  },
  {
   "cell_type": "code",
   "execution_count": 9,
   "metadata": {},
   "outputs": [],
   "source": [
    "rel_data = {}\n",
    "for tok in cn_valid_tokens:\n",
    "    edge_iter = chain.from_iterable(x[\"edges\"] for x in cn[tok])\n",
    "    rel_iter = map(retrieve_edge, edge_iter)\n",
    "    rel_iter = filter(lambda x: x and x[3] > 1, rel_iter)\n",
    "    rel_data[tok] = list(set(rel_iter))"
   ]
  },
  {
   "cell_type": "code",
   "execution_count": 10,
   "metadata": {},
   "outputs": [
    {
     "data": {
      "text/markdown": [
       "### There are 52131 relations retrieved from ConceptNet"
      ],
      "text/plain": [
       "<IPython.core.display.Markdown object>"
      ]
     },
     "metadata": {},
     "output_type": "display_data"
    }
   ],
   "source": [
    "edge_count = sum([len(x) for x in rel_data.values()])\n",
    "display(Markdown(f\"### There are {edge_count} relations retrieved from ConceptNet\"))"
   ]
  },
  {
   "cell_type": "code",
   "execution_count": 11,
   "metadata": {},
   "outputs": [],
   "source": [
    "import networkx  as nx"
   ]
  },
  {
   "cell_type": "code",
   "execution_count": 12,
   "metadata": {},
   "outputs": [],
   "source": [
    "G = nx.Graph()"
   ]
  },
  {
   "cell_type": "code",
   "execution_count": 13,
   "metadata": {},
   "outputs": [],
   "source": [
    "for start_x, edges in rel_data.items():\n",
    "    G.add_node(start_x)\n",
    "    for edge_x in edges:   \n",
    "        start_x, rel_label, end_x, _ = edge_x\n",
    "        G.add_node(start_x)\n",
    "        G.add_node(end_x)\n",
    "        G.add_edge(start_x, end_x, rel=rel_label)            "
   ]
  },
  {
   "cell_type": "code",
   "execution_count": 14,
   "metadata": {},
   "outputs": [],
   "source": [
    "n_largest_compo = max(len(x) for x in nx.connected_components(G))"
   ]
  },
  {
   "cell_type": "code",
   "execution_count": 15,
   "metadata": {},
   "outputs": [
    {
     "data": {
      "text/markdown": [
       "The Graph from conceptnet has \n",
       "* 15074 nodes, 33424 edges \n",
       "* 2515 islands \n",
       "* 2443 of which has single nodes, \n",
       "* The largest island has 12469 nodes"
      ],
      "text/plain": [
       "<IPython.core.display.Markdown object>"
      ]
     },
     "metadata": {},
     "output_type": "display_data"
    }
   ],
   "source": [
    "display(Markdown(f\"The Graph from conceptnet has \\n\"\n",
    "        f\"* {len(G.nodes)} nodes, {len(G.edges)} edges \\n\"\n",
    "        f\"* {nx.number_connected_components(G)} islands \\n\"\n",
    "        f\"* {len(list(nx.isolates(G)))} of which has single nodes, \\n\"\n",
    "        f\"* The largest island has {n_largest_compo} nodes\"))"
   ]
  },
  {
   "cell_type": "code",
   "execution_count": 16,
   "metadata": {},
   "outputs": [
    {
     "data": {
      "text/plain": [
       "AtlasView({'錢': {'rel': 'HasSubevent'}, '認真': {'rel': 'MotivatedByGoal'}, '學習': {'rel': 'MotivatedByGoal'}, '讀書': {'rel': 'Causes'}, '努力': {'rel': 'MotivatedByGoal'}, '補習': {'rel': 'MotivatedByGoal'}, '愛': {'rel': 'IsA'}, '才華': {'rel': 'SymbolOf'}})"
      ]
     },
     "execution_count": 16,
     "metadata": {},
     "output_type": "execute_result"
    }
   ],
   "source": [
    "G.adj[\"能力\"]"
   ]
  },
  {
   "cell_type": "code",
   "execution_count": 17,
   "metadata": {},
   "outputs": [],
   "source": [
    "graph_1_path = wasp.get_data_path(\"sem_graph\", \"graph_stage_1.pkl\")\n",
    "with open(graph_1_path, \"wb\") as fout:\n",
    "    pickle.dump(G, fout)"
   ]
  },
  {
   "cell_type": "markdown",
   "metadata": {},
   "source": [
    "# Query FastText"
   ]
  },
  {
   "cell_type": "code",
   "execution_count": 18,
   "metadata": {},
   "outputs": [],
   "source": [
    "import pickle\n",
    "import wasp"
   ]
  },
  {
   "cell_type": "code",
   "execution_count": 38,
   "metadata": {},
   "outputs": [],
   "source": [
    "with open(wasp.get_resource_path(\"\", \"fasttext_vocab_freq.pkl\"), \"rb\") as fin:\n",
    "    ft_vocab = pickle.load(fin)"
   ]
  },
  {
   "cell_type": "code",
   "execution_count": 39,
   "metadata": {},
   "outputs": [],
   "source": [
    "with open(wasp.get_resource_path(\"\", \"gensim_kv_fasttext_tc.pkl\"), \"rb\") as fin:\n",
    "    fasttext = pickle.load(fin)"
   ]
  },
  {
   "cell_type": "code",
   "execution_count": 40,
   "metadata": {},
   "outputs": [],
   "source": [
    "vocab_freq = {}\n",
    "for tok in fasttext.vocab.keys():\n",
    "    vocab_freq[tok] = ft_vocab.get(tok, 1)\n",
    "del ft_vocab"
   ]
  },
  {
   "cell_type": "code",
   "execution_count": 44,
   "metadata": {},
   "outputs": [],
   "source": [
    "freq_sorted = sorted(fasttext.vocab.keys(), key=lambda x: fasttext.vocab.get(x, 1), reverse=True)\n",
    "stop_words = set(freq_sorted[:1000])"
   ]
  },
  {
   "cell_type": "code",
   "execution_count": 45,
   "metadata": {},
   "outputs": [
    {
     "data": {
      "text/plain": [
       "0.8844398365954318"
      ]
     },
     "execution_count": 45,
     "metadata": {},
     "output_type": "execute_result"
    }
   ],
   "source": [
    "fasttext.similarity(\"醫生\", \"梨子\")"
   ]
  },
  {
   "cell_type": "code",
   "execution_count": 46,
   "metadata": {},
   "outputs": [
    {
     "name": "stdout",
     "output_type": "stream",
     "text": [
      "cn_vocab: 4408\n"
     ]
    },
    {
     "data": {
      "application/vnd.jupyter.widget-view+json": {
       "model_id": "7e65422ff28c46f6abfe262127d78ea9",
       "version_major": 2,
       "version_minor": 0
      },
      "text/plain": [
       "HBox(children=(FloatProgress(value=0.0, max=9713028.0), HTML(value='')))"
      ]
     },
     "metadata": {},
     "output_type": "display_data"
    },
    {
     "name": "stdout",
     "output_type": "stream",
     "text": [
      "\n"
     ]
    }
   ],
   "source": [
    "from itertools import combinations\n",
    "vocab = fasttext.vocab\n",
    "cn_vocab = [x for x in cn.keys() if x in vocab]\n",
    "print(f\"cn_vocab: {len(cn_vocab)}\")\n",
    "assoc = {}\n",
    "n_comb = len(cn_vocab) * (len(cn_vocab)-1)/2\n",
    "for tok_x, tok_y in tqdm(combinations(cn_vocab, 2), total=n_comb):    \n",
    "    if not(tok_x in vocab and tok_y in vocab):\n",
    "        continue\n",
    "    if tok_x in stop_words or tok_y in stop_words:\n",
    "        continue\n",
    "    if tok_x == tok_y:\n",
    "        continue\n",
    "    assoc[(tok_x, tok_y)] = fasttext.similarity(tok_x, tok_y)"
   ]
  },
  {
   "cell_type": "code",
   "execution_count": 47,
   "metadata": {},
   "outputs": [],
   "source": [
    "with open(wasp.get_data_path(\"sem_graph\", \"cn_fasttext_assoc.pkl\"), \"wb\") as fin:\n",
    "    pickle.dump(assoc, fin)"
   ]
  },
  {
   "cell_type": "code",
   "execution_count": 48,
   "metadata": {},
   "outputs": [],
   "source": [
    "assoc_values = list(assoc.values())"
   ]
  },
  {
   "cell_type": "code",
   "execution_count": 49,
   "metadata": {},
   "outputs": [],
   "source": [
    "import numpy as np\n",
    "np.quantile(assoc_values, [.80, .90, .95])\n",
    "assoc_crit = np.quantile(assoc_values, [.90])[0]"
   ]
  },
  {
   "cell_type": "code",
   "execution_count": 50,
   "metadata": {},
   "outputs": [
    {
     "data": {
      "text/plain": [
       "0.9262614339353522"
      ]
     },
     "execution_count": 50,
     "metadata": {},
     "output_type": "execute_result"
    }
   ],
   "source": [
    "assoc_crit"
   ]
  },
  {
   "cell_type": "code",
   "execution_count": 51,
   "metadata": {},
   "outputs": [
    {
     "data": {
      "text/plain": [
       "[<matplotlib.lines.Line2D at 0x164af3912c8>]"
      ]
     },
     "execution_count": 51,
     "metadata": {},
     "output_type": "execute_result"
    },
    {
     "data": {
      "image/png": "[encoded data removed]",
      "text/plain": [
       "<Figure size 432x288 with 1 Axes>"
      ]
     },
     "metadata": {
      "needs_background": "light"
     },
     "output_type": "display_data"
    }
   ],
   "source": [
    "import matplotlib.pyplot as plt\n",
    "from scipy.stats import gaussian_kde\n",
    "density = gaussian_kde(assoc_values)\n",
    "xs = np.linspace(0,1,100)\n",
    "plt.plot(xs, density(xs))"
   ]
  },
  {
   "cell_type": "markdown",
   "metadata": {},
   "source": [
    "## add fasttext assoc in graph"
   ]
  },
  {
   "cell_type": "code",
   "execution_count": 52,
   "metadata": {},
   "outputs": [],
   "source": [
    "graph_1_path = wasp.get_data_path(\"sem_graph\", \"graph_stage_1.pkl\")\n",
    "with open(graph_1_path, \"rb\") as fin:\n",
    "    G = pickle.load(fin)\n",
    "\n",
    "with open(wasp.get_data_path(\"sem_graph\", \"cn_fasttext_assoc.pkl\"), \"rb\") as fin:\n",
    "    assoc = pickle.load(fin)"
   ]
  },
  {
   "cell_type": "code",
   "execution_count": 53,
   "metadata": {},
   "outputs": [
    {
     "data": {
      "application/vnd.jupyter.widget-view+json": {
       "model_id": "4980f90b3f6d4030b49a10bd3d2943d4",
       "version_major": 2,
       "version_minor": 0
      },
      "text/plain": [
       "HBox(children=(FloatProgress(value=0.0, max=7751953.0), HTML(value='')))"
      ]
     },
     "metadata": {},
     "output_type": "display_data"
    },
    {
     "name": "stdout",
     "output_type": "stream",
     "text": [
      "\n"
     ]
    }
   ],
   "source": [
    "for tok_tup, sim in tqdm(assoc.items()):\n",
    "    if sim > assoc_crit:\n",
    "        G.add_edge(*tok_tup, rel=\"fasttext\")"
   ]
  },
  {
   "cell_type": "code",
   "execution_count": 54,
   "metadata": {},
   "outputs": [
    {
     "data": {
      "text/markdown": [
       "The Graph from conceptnet has \n",
       "* 15600 nodes, 807426 edges \n",
       "* 633 islands \n",
       "* 608 of which has single nodes, \n",
       "* The largest island has 12469 nodes"
      ],
      "text/plain": [
       "<IPython.core.display.Markdown object>"
      ]
     },
     "metadata": {},
     "output_type": "display_data"
    }
   ],
   "source": [
    "display(Markdown(f\"The Graph from conceptnet has \\n\"\n",
    "        f\"* {len(G.nodes)} nodes, {len(G.edges)} edges \\n\"\n",
    "        f\"* {nx.number_connected_components(G)} islands \\n\"\n",
    "        f\"* {len(list(nx.isolates(G)))} of which has single nodes, \\n\"\n",
    "        f\"* The largest island has {n_largest_compo} nodes\"))"
   ]
  },
  {
   "cell_type": "code",
   "execution_count": 55,
   "metadata": {},
   "outputs": [],
   "source": [
    "graph_2_path = wasp.get_data_path(\"sem_graph\", \"graph_stage_2.pkl\")\n",
    "with open(graph_2_path, \"wb\") as fout:\n",
    "    pickle.dump(G, fout)"
   ]
  },
  {
   "cell_type": "code",
   "execution_count": null,
   "metadata": {},
   "outputs": [],
   "source": []
  }
 ],
 "metadata": {
  "kernelspec": {
   "display_name": "Python 3.7.4 64-bit",
   "language": "python",
   "name": "python37464bitee4611e995004e38ba0d4e22ff5ed92d"
  },
  "language_info": {
   "codemirror_mode": {
    "name": "ipython",
    "version": 3
   },
   "file_extension": ".py",
   "mimetype": "text/x-python",
   "name": "python",
   "nbconvert_exporter": "python",
   "pygments_lexer": "ipython3",
   "version": "3.7.4"
  }
 },
 "nbformat": 4,
 "nbformat_minor": 4
}
