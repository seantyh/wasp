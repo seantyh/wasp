{
 "cells": [
  {
   "cell_type": "code",
   "execution_count": null,
   "metadata": {},
   "outputs": [],
   "source": [
    "%load_ext autoreload\n",
    "%autoreload 2\n",
    "%matplotlib inline"
   ]
  },
  {
   "cell_type": "code",
   "execution_count": 8,
   "metadata": {},
   "outputs": [],
   "source": [
    "import wasp\n",
    "import json\n",
    "import pickle\n",
    "import networkx as nx"
   ]
  },
  {
   "cell_type": "code",
   "execution_count": 9,
   "metadata": {},
   "outputs": [],
   "source": [
    "with open(wasp.get_data_path(\"item_pool\", \"item_pool_supp.json\"), \"r\", encoding=\"UTF-8\") as fin:\n",
    "    items = json.load(fin)\n",
    "with open(wasp.get_data_path(\"sem_graph\", \"graph_stage_2.pkl\"), \"rb\") as fin:\n",
    "    G = pickle.load(fin)"
   ]
  },
  {
   "cell_type": "code",
   "execution_count": 14,
   "metadata": {},
   "outputs": [],
   "source": [
    "from itertools import chain\n",
    "\n",
    "def extract_item_subgraph(item_x):\n",
    "    question = item_x[\"question\"]\n",
    "    options = item_x[\"options\"]\n",
    "    tokens = chain.from_iterable([question, *options])\n",
    "    nodes_valid = set(tokens).intersection(G.nodes)\n",
    "    subG = G.subgraph(nodes_valid)\n",
    "    return subG"
   ]
  },
  {
   "cell_type": "code",
   "execution_count": 24,
   "metadata": {},
   "outputs": [],
   "source": [
    "for item_x in items:\n",
    "    subG = extract_item_subgraph(item_x)\n",
    "    item_x[\"graph\"] = {\n",
    "        \"nodes\": list(subG.nodes),\n",
    "        \"edges\": list(subG.edges.data())\n",
    "    }"
   ]
  },
  {
   "cell_type": "code",
   "execution_count": 17,
   "metadata": {},
   "outputs": [
    {
     "data": {
      "text/plain": [
       "[('情人', '偷偷', {'rel': 'fasttext'}),\n",
       " ('能力', '學習', {'rel': 'MotivatedByGoal'}),\n",
       " ('老闆', '正著', {'rel': 'fasttext'}),\n",
       " ('大家', '偷偷', {'rel': 'fasttext'}),\n",
       " ('大家', '你的', {'rel': 'fasttext'}),\n",
       " ('大家', '都想', {'rel': 'fasttext'}),\n",
       " ('你的', '都想', {'rel': 'fasttext'}),\n",
       " ('都想', '偷偷', {'rel': 'fasttext'}),\n",
       " ('都想', '正著', {'rel': 'fasttext'}),\n",
       " ('正著', '偷偷', {'rel': 'fasttext'})]"
      ]
     },
     "execution_count": 17,
     "metadata": {},
     "output_type": "execute_result"
    }
   ],
   "source": [
    "[(u, v, d) for u,v,d in subG.edges.data() if \"rel\" in d]"
   ]
  },
  {
   "cell_type": "code",
   "execution_count": 25,
   "metadata": {},
   "outputs": [],
   "source": [
    "with open(wasp.get_data_path(\"item_pool\", \"item_pool_graph.json\"), \"w\", encoding=\"UTF-8\") as fout:\n",
    "    json.dump(items, fout, ensure_ascii=False, indent=2)"
   ]
  },
  {
   "cell_type": "code",
   "execution_count": null,
   "metadata": {},
   "outputs": [],
   "source": []
  }
 ],
 "metadata": {
  "kernelspec": {
   "display_name": "Python 3.7.4 64-bit",
   "language": "python",
   "name": "python37464bitee4611e995004e38ba0d4e22ff5ed92d"
  },
  "language_info": {
   "codemirror_mode": {
    "name": "ipython",
    "version": 3
   },
   "file_extension": ".py",
   "mimetype": "text/x-python",
   "name": "python",
   "nbconvert_exporter": "python",
   "pygments_lexer": "ipython3",
   "version": "3.7.4"
  }
 },
 "nbformat": 4,
 "nbformat_minor": 4
}
