{
 "cells": [
  {
   "cell_type": "code",
   "execution_count": 6,
   "metadata": {},
   "outputs": [
    {
     "name": "stdout",
     "output_type": "stream",
     "text": [
      "The autoreload extension is already loaded. To reload it, use:\n",
      "  %reload_ext autoreload\n"
     ]
    }
   ],
   "source": [
    "%load_ext autoreload\n",
    "%autoreload 2"
   ]
  },
  {
   "cell_type": "code",
   "execution_count": 7,
   "metadata": {},
   "outputs": [],
   "source": [
    "import wasp\n",
    "import json"
   ]
  },
  {
   "cell_type": "code",
   "execution_count": 8,
   "metadata": {},
   "outputs": [],
   "source": [
    "with open(wasp.get_data_path(\"item_pool\", \"item_pool_supp.json\"), \"r\", encoding=\"UTF-8\") as fin:\n",
    "    items = json.load(fin)"
   ]
  },
  {
   "cell_type": "code",
   "execution_count": 9,
   "metadata": {},
   "outputs": [
    {
     "data": {
      "text/plain": [
       "{'qid': 1,\n",
       " 'MaxIsCorrect': True,\n",
       " 'RatingMax': 4.2,\n",
       " 'Rating2nd': 1.6,\n",
       " 'max_2nd': 2.625,\n",
       " 'XbarSD': 1.4095,\n",
       " 'question': ['小華',\n",
       "  '翹班',\n",
       "  '偷偷',\n",
       "  '去',\n",
       "  '<',\n",
       "  '會',\n",
       "  '>',\n",
       "  '情人',\n",
       "  '，',\n",
       "  '被',\n",
       "  '他',\n",
       "  '老闆',\n",
       "  '抓個',\n",
       "  '正著',\n",
       "  '。'],\n",
       " 'options': [['小華', '有見', '到', '情人', '。'],\n",
       "  ['小華', '用', '情人', '當', '話題', '去', '交朋友', '。'],\n",
       "  ['小華', '當', '情人', '的', '能力', '極佳', '，', '大家', '都想', '跟', '他', '學習', '。'],\n",
       "  ['小華', '有', '可能', '成為', '你的', '情人', '。']],\n",
       " 'options_rating': [4.2, 1.2, 1.4, 1.6],\n",
       " 'options_ratingSD': [0.8367, 0.4472, 0.8944, 1.3416],\n",
       " 'target_sense': '面對面相見。',\n",
       " 'ans_index': 0}"
      ]
     },
     "execution_count": 9,
     "metadata": {},
     "output_type": "execute_result"
    }
   ],
   "source": [
    "items[0]"
   ]
  },
  {
   "cell_type": "code",
   "execution_count": null,
   "metadata": {},
   "outputs": [],
   "source": []
  }
 ],
 "metadata": {
  "kernelspec": {
   "display_name": "Python 3.7.4 64-bit",
   "language": "python",
   "name": "python37464bitee4611e995004e38ba0d4e22ff5ed92d"
  },
  "language_info": {
   "codemirror_mode": {
    "name": "ipython",
    "version": 3
   },
   "file_extension": ".py",
   "mimetype": "text/x-python",
   "name": "python",
   "nbconvert_exporter": "python",
   "pygments_lexer": "ipython3",
   "version": "3.7.4"
  }
 },
 "nbformat": 4,
 "nbformat_minor": 4
}
