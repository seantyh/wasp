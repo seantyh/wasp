{
 "cells": [
  {
   "cell_type": "code",
   "execution_count": 1,
   "metadata": {},
   "outputs": [],
   "source": [
    "%load_ext autoreload\n",
    "%autoreload 2"
   ]
  },
  {
   "cell_type": "code",
   "execution_count": 50,
   "metadata": {},
   "outputs": [
    {
     "name": "stderr",
     "output_type": "stream",
     "text": [
      "C:\\Python37\\lib\\site-packages\\ipykernel_launcher.py:3: TqdmExperimentalWarning: Using `tqdm.autonotebook.tqdm` in notebook mode. Use `tqdm.tqdm` instead to force console mode (e.g. in jupyter console)\n",
      "  This is separate from the ipykernel package so we can avoid doing imports until\n"
     ]
    }
   ],
   "source": [
    "import json\n",
    "import wasp\n",
    "from tqdm.autonotebook import tqdm"
   ]
  },
  {
   "cell_type": "code",
   "execution_count": 23,
   "metadata": {},
   "outputs": [],
   "source": [
    "with open(wasp.get_data_path(\"item_pool\", \"item_pool_supp.json\"), \"rb\") as fin:\n",
    "    items = json.load(fin)"
   ]
  },
  {
   "cell_type": "code",
   "execution_count": 41,
   "metadata": {},
   "outputs": [],
   "source": [
    "import requests\n",
    "import requests_cache\n",
    "requests_cache.install_cache()"
   ]
  },
  {
   "cell_type": "code",
   "execution_count": 42,
   "metadata": {},
   "outputs": [],
   "source": [
    "from itertools import chain\n",
    "\n",
    "pooling_func = lambda x: x[\"question\"] + list(chain.from_iterable(x[\"options\"]))\n",
    "tokens = list(set(chain.from_iterable(map(pooling_func, items))))"
   ]
  },
  {
   "cell_type": "code",
   "execution_count": 53,
   "metadata": {},
   "outputs": [],
   "source": [
    "import time\n",
    "def query_conceptnet(token):\n",
    "    url_templ = \"http://api.conceptnet.io/c/zh/{query}?limit=100\"\n",
    "    url = url_templ.format(query=token)\n",
    "    resp = requests.get(url)\n",
    "    data = []    \n",
    "    while resp and resp.status_code == 200:        \n",
    "        # print(f\"request {url}\")\n",
    "        json = resp.json()\n",
    "        data.append(json)\n",
    "        nextPage = json.get(\"view\", {}).get(\"nextPage\")\n",
    "        if nextPage:\n",
    "            url = \"http://api.conceptnet.io\" + nextPage\n",
    "            if hasattr(resp, \"from_cache\") and not resp.from_cache:\n",
    "                time.sleep(0.8)\n",
    "            resp = requests.get(url)\n",
    "        else:\n",
    "            resp = None\n",
    "    return data"
   ]
  },
  {
   "cell_type": "code",
   "execution_count": 54,
   "metadata": {},
   "outputs": [
    {
     "data": {
      "application/vnd.jupyter.widget-view+json": {
       "model_id": "bd3828060ae541d78bc38d900f3dfd86",
       "version_major": 2,
       "version_minor": 0
      },
      "text/plain": [
       "HBox(children=(FloatProgress(value=0.0, max=5165.0), HTML(value='')))"
      ]
     },
     "metadata": {},
     "output_type": "display_data"
    },
    {
     "name": "stdout",
     "output_type": "stream",
     "text": [
      "\n"
     ]
    }
   ],
   "source": [
    "# retrieve conceptnet data\n",
    "concept_data = {}\n",
    "for tok in tqdm(tokens):\n",
    "    data = query_conceptnet(tok)\n",
    "    concept_data[tok] = data\n",
    "    time.sleep(0.8)"
   ]
  },
  {
   "cell_type": "code",
   "execution_count": 55,
   "metadata": {},
   "outputs": [],
   "source": [
    "import pickle\n",
    "wasp.install_data_dir(\"sem_graph\")\n",
    "with open(wasp.get_data_path(\"sem_graph\", \"concept_net.pkl\"), \"wb\") as fout:\n",
    "    pickle.dump(concept_data, fout)"
   ]
  },
  {
   "cell_type": "code",
   "execution_count": null,
   "metadata": {},
   "outputs": [],
   "source": []
  }
 ],
 "metadata": {
  "kernelspec": {
   "display_name": "Python 3.7.4 64-bit",
   "language": "python",
   "name": "python37464bitee4611e995004e38ba0d4e22ff5ed92d"
  },
  "language_info": {
   "codemirror_mode": {
    "name": "ipython",
    "version": 3
   },
   "file_extension": ".py",
   "mimetype": "text/x-python",
   "name": "python",
   "nbconvert_exporter": "python",
   "pygments_lexer": "ipython3",
   "version": "3.7.4"
  }
 },
 "nbformat": 4,
 "nbformat_minor": 4
}
