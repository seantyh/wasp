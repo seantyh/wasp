{
 "cells": [
  {
   "cell_type": "code",
   "execution_count": 1,
   "metadata": {},
   "outputs": [],
   "source": [
    "%load_ext autoreload\n",
    "%autoreload 2"
   ]
  },
  {
   "cell_type": "code",
   "execution_count": 2,
   "metadata": {},
   "outputs": [],
   "source": [
    "import numpy as np\n",
    "import wasp"
   ]
  },
  {
   "cell_type": "code",
   "execution_count": 3,
   "metadata": {},
   "outputs": [
    {
     "name": "stderr",
     "output_type": "stream",
     "text": [
      "Building prefix dict from the default dictionary ...\n",
      "Loading model from cache C:\\Users\\seantyh\\AppData\\Local\\Temp\\jieba.cache\n",
      "Loading model cost 0.676 seconds.\n",
      "Prefix dict has been built succesfully.\n"
     ]
    }
   ],
   "source": [
    "question = \"物理學和化學是自然科學\"\n",
    "options = [\n",
    "    \"這個問題沒有答案\", \n",
    "    \"今天天氣真好\",\n",
    "    \"速度等於距離除以時間\",\n",
    "    \"光的速度是個常數\"\n",
    "]\n",
    "\n",
    "qs, opts = wasp.segment_words(question, options)"
   ]
  },
  {
   "cell_type": "code",
   "execution_count": 4,
   "metadata": {},
   "outputs": [],
   "source": [
    "qmat, opt_list = wasp.to_vectors(qs, opts)"
   ]
  },
  {
   "cell_type": "code",
   "execution_count": 5,
   "metadata": {},
   "outputs": [
    {
     "data": {
      "text/plain": [
       "['物理學', '和', '化學', '是', '自然科學']"
      ]
     },
     "execution_count": 5,
     "metadata": {},
     "output_type": "execute_result"
    }
   ],
   "source": [
    "qs"
   ]
  },
  {
   "cell_type": "code",
   "execution_count": 6,
   "metadata": {},
   "outputs": [
    {
     "data": {
      "text/plain": [
       "QaAnswer(avg_ans=3, avg_vec=array([0.96438912, 0.95225327, 0.95532407, 0.97664661]), max_ans=3, max_vec=[0.9439243035979984, 0.9592233666708333, 0.9309127015914954, 0.9925515085569134], segments={'questions': ['物理學', '和', '化學', '是', '自然科學'], 'options': [['這個', '問題', '沒有', '答案'], ['今天', '天氣', '真好'], ['速度', '等於', '距離', '除以', '時間'], ['光', '的', '速度', '是個', '常數']]})"
      ]
     },
     "execution_count": 6,
     "metadata": {},
     "output_type": "execute_result"
    }
   ],
   "source": [
    "wasp.answer(question, options)"
   ]
  },
  {
   "cell_type": "code",
   "execution_count": null,
   "metadata": {},
   "outputs": [],
   "source": []
  }
 ],
 "metadata": {
  "kernelspec": {
   "display_name": "Python 3",
   "language": "python",
   "name": "python3"
  },
  "language_info": {
   "codemirror_mode": {
    "name": "ipython",
    "version": 3
   },
   "file_extension": ".py",
   "mimetype": "text/x-python",
   "name": "python",
   "nbconvert_exporter": "python",
   "pygments_lexer": "ipython3",
   "version": "3.7.4"
  }
 },
 "nbformat": 4,
 "nbformat_minor": 4
}
