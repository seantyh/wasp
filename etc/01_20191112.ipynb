{
 "cells": [
  {
   "cell_type": "code",
   "execution_count": 1,
   "metadata": {},
   "outputs": [],
   "source": [
    "%load_ext autoreload\n",
    "%autoreload 2"
   ]
  },
  {
   "cell_type": "code",
   "execution_count": 13,
   "metadata": {},
   "outputs": [],
   "source": [
    "import numpy as np\n",
    "import wasp\n",
    "import json\n",
    "from itertools import groupby"
   ]
  },
  {
   "cell_type": "code",
   "execution_count": 3,
   "metadata": {},
   "outputs": [],
   "source": [
    "creds = wasp.gdrive.get_credential()\n",
    "anno_files = wasp.gdrive.list_drive_folder(\"1yw7DiEXa8oj3ArCxvJpuUkzfe50Eg4U0\", creds)"
   ]
  },
  {
   "cell_type": "code",
   "execution_count": 4,
   "metadata": {},
   "outputs": [
    {
     "data": {
      "text/plain": [
       "[('12U7BdGTXKsmHf90D2Ug_2rWv909XV2AZejiyl10U0SY', 'select_wsd_Jessy'),\n",
       " ('13TBiYh_cItqM9rjPXv2O_qOfwQV_xPf4YPlq4G0RvWM', 'select_wsd_Sabrina'),\n",
       " ('14nT8E_evfy3tMOj2ZmkN7ck1sFyr256fIRTtrHTYEWE', 'new_task_joy'),\n",
       " ('1kGvkzh7BMP31SGm_vfpgpoR6J5X8J8ubEmnNZYMJb3E', 'select_wsd_Taco'),\n",
       " ('1EoeyvBD8p4ksVFm4GPsof7scb9IFWK8kU-1DLSVCEd4', 'new_task_yongfu'),\n",
       " ('1uDig4ogH1gh3wxAIVj6BzO42yL8aQtixFzMRT59gdLM', 'select_wsd_Bobby'),\n",
       " ('1oMT1QxWfxiotlqrpSt8Kq2Adn0-ijHRJggjVCUKQoeM', 'model_test'),\n",
       " ('1jn4lb5D7HDm0Ni8-JYNxwKBf9doMzfr__WFX-edXGio', 'select_wsd_Nick')]"
      ]
     },
     "execution_count": 4,
     "metadata": {},
     "output_type": "execute_result"
    }
   ],
   "source": [
    "anno_files"
   ]
  },
  {
   "cell_type": "code",
   "execution_count": 7,
   "metadata": {},
   "outputs": [
    {
     "data": {
      "text/plain": [
       "['字詞表', '題目']"
      ]
     },
     "execution_count": 7,
     "metadata": {},
     "output_type": "execute_result"
    }
   ],
   "source": [
    "wasp.gdrive.get_sheet_name(anno_files[0][0], creds)"
   ]
  },
  {
   "cell_type": "code",
   "execution_count": 10,
   "metadata": {},
   "outputs": [
    {
     "name": "stdout",
     "output_type": "stream",
     "text": [
      "select_wsd_Jessy\n",
      "select_wsd_Sabrina\n",
      "new_task_joy\n",
      "select_wsd_Taco\n",
      "new_task_yongfu\n",
      "no answer found in 2\n",
      "select_wsd_Bobby\n",
      "model_test\n",
      "select_wsd_Nick\n"
     ]
    }
   ],
   "source": [
    "item_pool = []\n",
    "for anno_id, anno_name in anno_files:\n",
    "    if anno_name == \"model_test\": continue\n",
    "    print(anno_name)    \n",
    "    sheet_names = wasp.gdrive.get_sheet_name(anno_id, creds)\n",
    "    if '題目' in sheet_names:\n",
    "        sheet_name = \"題目\"\n",
    "    else:\n",
    "        sheet_name = \"\"\n",
    "    data = wasp.gdrive.retrieve_sheet(anno_id, creds, sheet_name)\n",
    "    data = [x for x in data[1:] if len(x) == len(data[0])]\n",
    "    grp_data = groupby(data, lambda x: x[1])\n",
    "    option_data = {grp_idx: list(grp_opts) for grp_idx, grp_opts in grp_data}    \n",
    "    for grp_id, grp_items in option_data.items():        \n",
    "        questions = grp_items[0][4]\n",
    "        qid = grp_items[0][1]\n",
    "        opt_items = [x[5] for x in grp_items]        \n",
    "        answer = [idx for idx, opt_x in enumerate(grp_items) if opt_x[6] == '1']\n",
    "        if not answer:\n",
    "            print(\"no answer found in \" + grp_id)\n",
    "            break\n",
    "        item_pool.append({\"questions\": questions, \"options\": opt_items, 'ans':answer[0], \"qid\": qid, 'src': anno_name})            "
   ]
  },
  {
   "cell_type": "code",
   "execution_count": 16,
   "metadata": {},
   "outputs": [],
   "source": [
    "wasp.install_cache_dir(\"wasp_items\")\n",
    "wasp_items_path = wasp.get_cache_path(\"wasp_items\", \"items.json\")\n",
    "with wasp_items_path.open(\"w\", encoding=\"UTF-8\") as fout:\n",
    "    json.dump(item_pool, fout, indent=2, ensure_ascii=False)"
   ]
  },
  {
   "cell_type": "code",
   "execution_count": 85,
   "metadata": {},
   "outputs": [],
   "source": [
    "option_data = {grp_idx: list(grp_opts) for grp_idx, grp_opts in grp_data}"
   ]
  },
  {
   "cell_type": "code",
   "execution_count": 91,
   "metadata": {},
   "outputs": [
    {
     "name": "stdout",
     "output_type": "stream",
     "text": [
      "[['1', '1', '看', '用眼睛察覺。', '甲：他們公司假日也都要上班，<看>到他那樣子我都怕了。\\n乙：？', '小心你的肝', '1'], ['2', '1', '看', '用眼睛察覺。', '甲：他們公司假日也都要上班，<看>到他那樣子我都怕了。\\n乙：？', '裡面什麼都沒有提', '0'], ['3', '1', '看', '用眼睛察覺。', '甲：他們公司假日也都要上班，<看>到他那樣子我都怕了。\\n乙：？', '要走一段路才會到', '0'], ['4', '1', '看', '用眼睛察覺。', '甲：他們公司假日也都要上班，<看>到他那樣子我都怕了。\\n乙：？', '要不要預約一下', '0']]\n"
     ]
    }
   ],
   "source": [
    "item_pool = []\n",
    "for grp_id, grp_items in option_data.items():        \n",
    "    questions = grp_items[0][4]\n",
    "    opt_items = [x[5] for x in grp_items]\n",
    "    print(grp_items)\n",
    "    answer = [idx for idx, opt_x in enumerate(grp_items) if opt_x[6] == '1']\n",
    "    if not answer:\n",
    "        print(\"no answer found in \" + grp_id)\n",
    "        break\n",
    "    item_pool.append({\"questions\": questions, \"options\": opt_items, 'ans':answer[0]})\n",
    "    break\n",
    "        "
   ]
  },
  {
   "cell_type": "code",
   "execution_count": 92,
   "metadata": {},
   "outputs": [
    {
     "data": {
      "text/plain": [
       "[{'questions': '甲：他們公司假日也都要上班，<看>到他那樣子我都怕了。\\n乙：？',\n",
       "  'options': ['小心你的肝', '裡面什麼都沒有提', '要走一段路才會到', '要不要預約一下'],\n",
       "  'ans': 0}]"
      ]
     },
     "execution_count": 92,
     "metadata": {},
     "output_type": "execute_result"
    }
   ],
   "source": [
    "item_pool"
   ]
  },
  {
   "cell_type": "code",
   "execution_count": 3,
   "metadata": {},
   "outputs": [
    {
     "name": "stderr",
     "output_type": "stream",
     "text": [
      "Building prefix dict from the default dictionary ...\n",
      "Loading model from cache C:\\Users\\seantyh\\AppData\\Local\\Temp\\jieba.cache\n",
      "Loading model cost 0.676 seconds.\n",
      "Prefix dict has been built succesfully.\n"
     ]
    }
   ],
   "source": [
    "question = \"物理學和化學是自然科學\"\n",
    "options = [\n",
    "    \"這個問題沒有答案\", \n",
    "    \"今天天氣真好\",\n",
    "    \"速度等於距離除以時間\",\n",
    "    \"光的速度是個常數\"\n",
    "]\n",
    "\n",
    "qs, opts = wasp.segment_words(question, options)"
   ]
  },
  {
   "cell_type": "code",
   "execution_count": null,
   "metadata": {},
   "outputs": [],
   "source": []
  },
  {
   "cell_type": "code",
   "execution_count": 4,
   "metadata": {},
   "outputs": [],
   "source": [
    "qmat, opt_list = wasp.to_vectors(qs, opts)"
   ]
  },
  {
   "cell_type": "code",
   "execution_count": 5,
   "metadata": {},
   "outputs": [
    {
     "data": {
      "text/plain": [
       "['物理學', '和', '化學', '是', '自然科學']"
      ]
     },
     "execution_count": 5,
     "metadata": {},
     "output_type": "execute_result"
    }
   ],
   "source": [
    "qs"
   ]
  },
  {
   "cell_type": "code",
   "execution_count": 6,
   "metadata": {},
   "outputs": [
    {
     "data": {
      "text/plain": [
       "QaAnswer(avg_ans=3, avg_vec=array([0.96438912, 0.95225327, 0.95532407, 0.97664661]), max_ans=3, max_vec=[0.9439243035979984, 0.9592233666708333, 0.9309127015914954, 0.9925515085569134], segments={'questions': ['物理學', '和', '化學', '是', '自然科學'], 'options': [['這個', '問題', '沒有', '答案'], ['今天', '天氣', '真好'], ['速度', '等於', '距離', '除以', '時間'], ['光', '的', '速度', '是個', '常數']]})"
      ]
     },
     "execution_count": 6,
     "metadata": {},
     "output_type": "execute_result"
    }
   ],
   "source": [
    "wasp.answer(question, options)"
   ]
  },
  {
   "cell_type": "markdown",
   "metadata": {},
   "source": [
    "# Main"
   ]
  },
  {
   "cell_type": "code",
   "execution_count": null,
   "metadata": {},
   "outputs": [],
   "source": []
  }
 ],
 "metadata": {
  "kernelspec": {
   "display_name": "Python 3",
   "language": "python",
   "name": "python3"
  },
  "language_info": {
   "codemirror_mode": {
    "name": "ipython",
    "version": 3
   },
   "file_extension": ".py",
   "mimetype": "text/x-python",
   "name": "python",
   "nbconvert_exporter": "python",
   "pygments_lexer": "ipython3",
   "version": "3.7.4"
  }
 },
 "nbformat": 4,
 "nbformat_minor": 4
}
